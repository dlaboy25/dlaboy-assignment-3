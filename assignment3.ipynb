{
 "cells": [
  {
   "cell_type": "markdown",
   "id": "245217cc",
   "metadata": {},
   "source": [
    "# Assignment: SVD Preprocessing on MNIST with Logistic Regression"
   ]
  },
  {
   "cell_type": "markdown",
   "id": "deffa444",
   "metadata": {},
   "source": [
    "## Instructions:\n",
    "In this assignment, you will apply **Singular Value Decomposition (SVD)** as a preprocessing step to the **MNIST dataset** and train a **logistic regression classifier**. You will compare the model performance and training time when using different levels of SVD for dimensionality reduction.\n",
    "\n",
    "In this assignment, you will need to:\n",
    "1. Load the MNIST dataset and normalize it.\n",
    "2. Perform SVD and reduce the dimensions of the data.\n",
    "3. Train a logistic regression model on the original and SVD-reduced data.\n",
    "4. Measure and compare the training time and accuracy of the model with varying SVD components.\n",
    "5. Plot the results and analyze how SVD impacts the performance and efficiency of the model.\n",
    "\n",
    "***\n",
    "Your tasks include:\n",
    "1. Implement SVD algorithm. You are not allowed to directly use SVD implemented by other packages, but you may use functions in NumPy. (Part 2)\n",
    "2. Explore the accuracy and time performance from different numbers of SVD components. (Part 4)\n",
    "3. Visualize the accuracy, time performance and top 5 singular vectors in the dataset, analyze and explain which number of SVD component looks best to you? (Part 4,5&6) Hint: singular vectors should be reshaped to 28x28 images for visualization.\n",
    "***\n",
    "**Note that you may not import any other function or package.** Let's get started!\n"
   ]
  },
  {
   "cell_type": "markdown",
   "id": "b3e10cb3",
   "metadata": {},
   "source": [
    "## Part 1: Load the MNIST dataset and preprocess the data"
   ]
  },
  {
   "cell_type": "code",
   "execution_count": 1,
   "id": "79f2d907",
   "metadata": {},
   "outputs": [
    {
     "name": "stdout",
     "output_type": "stream",
     "text": [
      "Loading MNIST dataset...\n"
     ]
    }
   ],
   "source": [
    "import numpy as np\n",
    "import matplotlib.pyplot as plt\n",
    "import time\n",
    "from sklearn.linear_model import LogisticRegression\n",
    "from sklearn.model_selection import train_test_split\n",
    "from sklearn.datasets import fetch_openml\n",
    "from sklearn.metrics import accuracy_score, classification_report\n",
    "\n",
    "# Load MNIST dataset\n",
    "print(\"Loading MNIST dataset...\")\n",
    "mnist = fetch_openml('mnist_784', version=1)\n",
    "X = mnist.data\n",
    "y = mnist.target\n",
    "\n",
    "# Normalize the data\n",
    "X = X / 255.0\n",
    "\n",
    "# Split into training and test sets\n",
    "X_train, X_test, y_train, y_test = train_test_split(X, y, test_size=0.2, random_state=42)\n"
   ]
  },
  {
   "cell_type": "markdown",
   "id": "28b8572d",
   "metadata": {},
   "source": [
    "## Part 2: Implement SVD for Dimensionality Reduction"
   ]
  },
  {
   "cell_type": "code",
   "execution_count": 5,
   "id": "b3bd59f3",
   "metadata": {},
   "outputs": [],
   "source": [
    "def apply_svd_custom(X_train, X_test, n_components):\n",
    "    # Center the data by subtracting the mean of X_train\n",
    "    X_mean = np.mean(X_train, axis=0)\n",
    "    X_train_centered = X_train - X_mean\n",
    "    X_test_centered = X_test - X_mean  # Use the same mean for X_test\n",
    "\n",
    "    # Compute covariance matrix\n",
    "    covariance_matrix = X_train_centered.T @ X_train_centered\n",
    "\n",
    "    # Compute eigenvalues and eigenvectors using np.linalg.eigh\n",
    "    eigenvalues, eigenvectors = np.linalg.eigh(covariance_matrix)\n",
    "\n",
    "    # Sort eigenvalues and eigenvectors in descending order\n",
    "    idx = np.argsort(eigenvalues)[::-1]\n",
    "    eigenvalues = eigenvalues[idx]\n",
    "    eigenvectors = eigenvectors[:, idx]\n",
    "\n",
    "    # Select the top n_components eigenvectors (principal components)\n",
    "    V = eigenvectors[:, :n_components]\n",
    "\n",
    "    # Project the data onto the new feature space\n",
    "    X_train_svd = X_train_centered @ V\n",
    "    X_test_svd = X_test_centered @ V\n",
    "\n",
    "    return X_train_svd, X_test_svd, V\n"
   ]
  },
  {
   "cell_type": "markdown",
   "id": "eb2a7a9d",
   "metadata": {},
   "source": [
    "## Part 3: Train Logistic Regression and Measure Performance"
   ]
  },
  {
   "cell_type": "code",
   "execution_count": 6,
   "id": "dbfc0b10",
   "metadata": {},
   "outputs": [],
   "source": [
    "# Function to train logistic regression and track training time\n",
    "def train_logistic_regression(X_train, y_train, X_test, y_test):\n",
    "    model = LogisticRegression(max_iter=1000, solver='saga', random_state=42, multi_class='multinomial')\n",
    "    \n",
    "    # Measure training time\n",
    "    start_time = time.time()\n",
    "    model.fit(X_train, y_train)\n",
    "    training_time = time.time() - start_time\n",
    "    \n",
    "    y_pred = model.predict(X_test)\n",
    "    accuracy = accuracy_score(y_test, y_pred)\n",
    "    \n",
    "    return accuracy, training_time\n"
   ]
  },
  {
   "cell_type": "markdown",
   "id": "2e557a05",
   "metadata": {},
   "source": [
    "## Part 4: Experiment with Different Levels of SVD\n",
    "\n",
    "Now, apply SVD with varying numbers of components and observe how the dimensionality reduction impacts the model's performance. Record both the accuracy and training time for each number of components.\n"
   ]
  },
  {
   "cell_type": "code",
   "execution_count": 7,
   "id": "3a460725",
   "metadata": {},
   "outputs": [
    {
     "name": "stdout",
     "output_type": "stream",
     "text": [
      "Training models with different levels of SVD preprocessing...\n",
      "Applying custom SVD with 10 components...\n",
      "SVD components: 10, Accuracy: 0.8035, Training time: 0.7687 seconds\n",
      "Applying custom SVD with 20 components...\n",
      "SVD components: 20, Accuracy: 0.8784, Training time: 1.9609 seconds\n",
      "Applying custom SVD with 50 components...\n",
      "SVD components: 50, Accuracy: 0.9080, Training time: 8.9118 seconds\n",
      "Applying custom SVD with 100 components...\n",
      "SVD components: 100, Accuracy: 0.9181, Training time: 25.4824 seconds\n",
      "Applying custom SVD with 200 components...\n",
      "SVD components: 200, Accuracy: 0.9206, Training time: 61.2150 seconds\n",
      "Applying custom SVD with 300 components...\n",
      "SVD components: 300, Accuracy: 0.9206, Training time: 103.7260 seconds\n",
      "Applying custom SVD with 400 components...\n",
      "SVD components: 400, Accuracy: 0.9196, Training time: 177.1922 seconds\n",
      "Applying custom SVD with 500 components...\n",
      "SVD components: 500, Accuracy: 0.9205, Training time: 218.7447 seconds\n",
      "Applying custom SVD with 784 components...\n",
      "SVD components: 784, Accuracy: 0.9207, Training time: 372.1991 seconds\n"
     ]
    }
   ],
   "source": [
    "# Define the numbers of components to test\n",
    "svd_components = [10, 20, 50, 100, 200, 300, 400, 500, 784]\n",
    "\n",
    "# Store the results\n",
    "results = []\n",
    "\n",
    "print(\"Training models with different levels of SVD preprocessing...\")\n",
    "for n_components in svd_components:\n",
    "    print(f\"Applying custom SVD with {n_components} components...\")\n",
    "    \n",
    "    # Apply SVD to the training and test sets\n",
    "    X_train_svd, X_test_svd, V = apply_svd_custom(X_train, X_test, n_components)\n",
    "    \n",
    "    # Train the logistic regression model and get accuracy and training time\n",
    "    accuracy, training_time = train_logistic_regression(X_train_svd, y_train, X_test_svd, y_test)\n",
    "    \n",
    "    # Store the results\n",
    "    results.append({\n",
    "        'n_components': n_components,\n",
    "        'accuracy': accuracy,\n",
    "        'training_time': training_time,\n",
    "        'V': V  # Store V for visualization\n",
    "    })\n",
    "        \n",
    "    print(f\"SVD components: {n_components}, Accuracy: {accuracy:.4f}, Training time: {training_time:.4f} seconds\")\n"
   ]
  },
  {
   "cell_type": "markdown",
   "id": "ea7aca12",
   "metadata": {},
   "source": [
    "## Part 5: Visualize and Analyze the Results\n",
    "\n",
    "Finally, plot the accuracy, training time as a function of the number of SVD components, and top 5 singular vectors. This will help you understand the trade-off between dimensionality reduction, accuracy, and model training time, and how SVD generally works. Hint: singular vectors should be reshaped to 28x28 images for visualization.\n"
   ]
  },
  {
   "cell_type": "code",
   "execution_count": 8,
   "id": "92ef0497",
   "metadata": {},
   "outputs": [
    {
     "data": {
      "image/png": "[encoded data removed]",
      "text/plain": [
       "<Figure size 864x360 with 2 Axes>"
      ]
     },
     "metadata": {
      "needs_background": "light"
     },
     "output_type": "display_data"
    },
    {
     "data": {
      "image/png": "[encoded data removed]",
      "text/plain": [
       "<Figure size 720x144 with 5 Axes>"
      ]
     },
     "metadata": {
      "needs_background": "light"
     },
     "output_type": "display_data"
    }
   ],
   "source": [
    "# Extract accuracies and training times for plotting\n",
    "n_components_list = [result['n_components'] for result in results]\n",
    "accuracies = [result['accuracy'] for result in results]\n",
    "training_times = [result['training_time'] for result in results]\n",
    "\n",
    "# Plot accuracy vs. number of components\n",
    "plt.figure(figsize=(12, 5))\n",
    "\n",
    "plt.subplot(1, 2, 1)\n",
    "plt.plot(n_components_list, accuracies, marker='o')\n",
    "plt.title('Accuracy vs. Number of SVD Components')\n",
    "plt.xlabel('Number of SVD Components')\n",
    "plt.ylabel('Accuracy')\n",
    "plt.grid(True)\n",
    "\n",
    "# Plot training time vs. number of components\n",
    "plt.subplot(1, 2, 2)\n",
    "plt.plot(n_components_list, training_times, marker='o', color='orange')\n",
    "plt.title('Training Time vs. Number of SVD Components')\n",
    "plt.xlabel('Number of SVD Components')\n",
    "plt.ylabel('Training Time (seconds)')\n",
    "plt.grid(True)\n",
    "\n",
    "plt.tight_layout()\n",
    "plt.show()\n",
    "\n",
    "# Visualize the top 5 singular vectors reshaped to 28x28 images\n",
    "# Get the V matrix from the result with the maximum number of components\n",
    "V_full = None\n",
    "for result in results:\n",
    "    if result['n_components'] == max(svd_components):\n",
    "        V_full = result['V']\n",
    "        break\n",
    "\n",
    "if V_full is not None:\n",
    "    top_5_singular_vectors = V_full[:, :5]\n",
    "\n",
    "    plt.figure(figsize=(10, 2))\n",
    "    for i in range(5):\n",
    "        singular_vector = top_5_singular_vectors[:, i]\n",
    "        singular_image = singular_vector.reshape(28, 28)\n",
    "        # Normalize the image for better visualization\n",
    "        singular_image_norm = (singular_image - singular_image.min()) / (singular_image.max() - singular_image.min())\n",
    "        plt.subplot(1, 5, i+1)\n",
    "        plt.imshow(singular_image_norm, cmap='gray')\n",
    "        plt.title(f'SV {i+1}')\n",
    "        plt.axis('off')\n",
    "\n",
    "    plt.suptitle('Top 5 Singular Vectors Reshaped to 28x28 Images')\n",
    "    plt.show()\n",
    "else:\n",
    "    print(\"V matrix not found for maximum number of components.\")\n"
   ]
  },
  {
   "cell_type": "markdown",
   "id": "4210569a",
   "metadata": {},
   "source": [
    "## Part 6: Analyze / Conclusion \n",
    "\n",
    "YOUR ANSWER: From the experiments, we can see that the model's accuracy increases with the number of SVD components, showing significant improvement up to around 100 to 200 components, beyond which the gains plateau, which indicates diminishing returns. Simultaneously, training time rises with more components, highlighting a trade-off between computational efficiency and performance. Visualizing the top five singular vectors reshaped into 28x28 images reveals patterns resembling average digit shapes, which captures the most significant variances in the dataset. Therefore, selecting approximately 100 to 200 SVD components offers the best balance between accuracy and training time, which effectively reduces dimensionality and simplifies the model without substantially compromising performance. This shows that applying SVD preprocessing enhances both the efficiency and effectiveness of logistic regression on the MNIST dataset.\n"
   ]
  }
 ],
 "metadata": {
  "kernelspec": {
   "display_name": "Python 3",
   "language": "python",
   "name": "python3"
  },
  "language_info": {
   "codemirror_mode": {
    "name": "ipython",
    "version": 3
   },
   "file_extension": ".py",
   "mimetype": "text/x-python",
   "name": "python",
   "nbconvert_exporter": "python",
   "pygments_lexer": "ipython3",
   "version": "3.8.8"
  }
 },
 "nbformat": 4,
 "nbformat_minor": 5
}
